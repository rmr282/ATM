{
 "cells": [
  {
   "cell_type": "markdown",
   "metadata": {},
   "source": []
  },
  {
   "cell_type": "code",
   "execution_count": 12,
   "metadata": {},
   "outputs": [],
   "source": [
    "import numpy as np\n",
    "import pandas as pd\n",
    "import matplotlib.pyplot as plt\n",
    "import spacy\n",
    "import nltk\n",
    "import csv\n",
    "import seaborn as sns\n",
    "\n",
    "import sklearn_crfsuite\n",
    "from sklearn_crfsuite import metrics\n",
    "from sklearn.metrics import ConfusionMatrixDisplay\n",
    "from sklearn.metrics import multilabel_confusion_matrix\n",
    "from sklearn.metrics import confusion_matrix"
   ]
  },
  {
   "cell_type": "code",
   "execution_count": 4,
   "metadata": {},
   "outputs": [],
   "source": [
    "# function for creating the X and y for the CRF \n",
    "def transform_to_crf(dataframe, strategy = 'LO', feature_group = [], base_group = []):\n",
    "  \"\"\"dataframe = entire train or development set as pandas dataframe\n",
    "  strategy = 'LO' if you want to leave a certain group out of the analysis\n",
    "  strategy = 'ONLY' if you want to train solely on that list of features\n",
    "  strategy = 'STACK' if you want to stack the basegroup to the list of features \n",
    "  feature_group = the list of features on which the strategy is performed\n",
    "  If you run transform_to_crf(dataframe) it will automatically perform on all features\"\"\"\n",
    "  \n",
    "\n",
    "  column_values = dataframe[['annotator']].values.ravel()\n",
    "  annotator_ids = pd.unique(column_values)\n",
    "  total_cols = ['token_no_stop','lemma','pos','prev_lemma','next_lemma','prev_pos','next_pos','snowball_stemmer',\n",
    "                'porter_stemmer','head','dependency','is_part_of_negation','has_prefix','has_postfix','has_infix',\n",
    "                'base_in_dictionary','has_apostrophe']\n",
    "\n",
    "  if strategy == 'LO':\n",
    "    cols = [x for x in total_cols if x not in feature_group]\n",
    "  elif strategy == 'ONLY':\n",
    "    cols = feature_group\n",
    "  elif strategy == 'STACK':\n",
    "    cols_dupl = base_group + feature_group\n",
    "    cols = list(set(cols_dupl))\n",
    "\n",
    "\n",
    "  X_ready = []\n",
    "  y_ready = []\n",
    "\n",
    "  for annotator in annotator_ids:  # for each annotator\n",
    "      # get the data for the annotator\n",
    "      annotator_data = dataframe[dataframe['annotator'] == annotator]\n",
    "      # get the sentence ids\n",
    "      column_values = annotator_data[['sentence_id']].values.ravel()\n",
    "      sentence_ids = pd.unique(column_values)  # get the unique sentence ids\n",
    "\n",
    "      for sent_id in sentence_ids:\n",
    "        new_sentence = []\n",
    "        sentence = annotator_data.loc[annotator_data['sentence_id']\n",
    "                                            == sent_id]        \n",
    "        y = sentence['label'].values.ravel()\n",
    "        for i, token_features in sentence.iterrows():\n",
    "          new_sentence.append(token_features[cols].to_dict())\n",
    "        X_ready.append(new_sentence)\n",
    "        y_ready.append(list(y))\n",
    "\n",
    "  return X_ready, y_ready, cols"
   ]
  },
  {
   "cell_type": "code",
   "execution_count": 5,
   "metadata": {},
   "outputs": [],
   "source": [
    "# function for creating the CRF classifier and predict the labels\n",
    "def predictions_crf(X_train, y_train, X_test):\n",
    "\n",
    "    crf = sklearn_crfsuite.CRF(\n",
    "    algorithm='lbfgs', \n",
    "    c1=0.1, \n",
    "    c2=0.1, \n",
    "    max_iterations=100, \n",
    "    all_possible_transitions=True\n",
    "    )\n",
    "\n",
    "    try:\n",
    "        crf.fit(X_train, y_train)\n",
    "    except AttributeError:\n",
    "        pass\n",
    "\n",
    "    predictions = crf.predict(X_test)\n",
    "    \n",
    "    return crf, predictions"
   ]
  },
  {
   "cell_type": "code",
   "execution_count": 6,
   "metadata": {},
   "outputs": [],
   "source": [
    "# function for extracting the f1 and confusion matrix from the predictions\n",
    "def get_metrics(predictions, y_test, crf):\n",
    "    labels = list(crf.classes_)\n",
    "    f1 = metrics.flat_f1_score(y_test, predictions,\n",
    "                        average='macro', labels=labels)\n",
    "    y_test_flatten = [y for x in y_test for y in x]\n",
    "    predictions_flatten = [y for x in predictions for y in x]\n",
    "    cm = confusion_matrix(y_test_flatten, predictions_flatten, labels)\n",
    "    return cm, f1\n"
   ]
  },
  {
   "cell_type": "code",
   "execution_count": 7,
   "metadata": {},
   "outputs": [],
   "source": [
    "# function for extracting all confusion matrices, f1's and prediction lists for every group of features\n",
    "def run_feature_analysis(strat = 'LO', base_group = []):\n",
    "    \"\"\"strat = 'LO' if you want to leave a certain group out of the analysis\n",
    "    strat = 'ONLY' if you want to train solely on that list of features \n",
    "    strat = 'STACK' if you want to increase the base_group \n",
    "    default is 'LO' \"\"\"\n",
    "    \n",
    "    print('strategy: ', strat)\n",
    "    \n",
    "    feature_groups = [['token_no_stop'],['lemma','pos','snowball_stemmer','porter_stemmer'],['next_lemma','next_pos'], \n",
    "    ['prev_lemma', 'prev_pos'], ['head','dependency'], ['is_part_of_negation'], ['has_prefix','has_postfix','has_infix'],\n",
    "    ['base_in_dictionary'],['has_apostrophe']]\n",
    "\n",
    "    cms = []\n",
    "    f1s = []\n",
    "    predictions_list = []\n",
    "\n",
    "    for i, group in enumerate(feature_groups):\n",
    "        X_train, y_train, cols = transform_to_crf(train,  strategy = strat, feature_group=group, base_group= base_group)\n",
    "        X_test, y_test, cols = transform_to_crf(dev, strategy = strat, feature_group=group, base_group = base_group)\n",
    "        crf, predictions = predictions_crf(X_train, y_train, X_test)\n",
    "        cm, f1 = get_metrics(predictions, y_test, crf)\n",
    "        cms.append(cm)\n",
    "        f1s.append(f1)\n",
    "        predictions_list.append(predictions)\n",
    "        print(cols, ' has f1 score of ', f1)\n",
    "        \n",
    "    return cms, f1s, predictions_list"
   ]
  },
  {
   "cell_type": "code",
   "execution_count": 13,
   "metadata": {},
   "outputs": [
    {
     "name": "stdout",
     "output_type": "stream",
     "text": [
      "strategy:  ONLY\n"
     ]
    },
    {
     "name": "stderr",
     "output_type": "stream",
     "text": [
      "/Users/ravimeijer/opt/anaconda3/lib/python3.8/site-packages/sklearn/utils/validation.py:70: FutureWarning: Pass labels=['O', 'B-NEG', 'I-NEG'] as keyword args. From version 1.0 (renaming of 0.25) passing these as positional arguments will result in an error\n",
      "  warnings.warn(f\"Pass {args_msg} as keyword args. From version \"\n"
     ]
    },
    {
     "name": "stdout",
     "output_type": "stream",
     "text": [
      "['token_no_stop']  has f1 score of  0.6087676599819579\n"
     ]
    },
    {
     "name": "stderr",
     "output_type": "stream",
     "text": [
      "/Users/ravimeijer/opt/anaconda3/lib/python3.8/site-packages/sklearn/utils/validation.py:70: FutureWarning: Pass labels=['O', 'B-NEG', 'I-NEG'] as keyword args. From version 1.0 (renaming of 0.25) passing these as positional arguments will result in an error\n",
      "  warnings.warn(f\"Pass {args_msg} as keyword args. From version \"\n"
     ]
    },
    {
     "name": "stdout",
     "output_type": "stream",
     "text": [
      "['lemma', 'pos', 'snowball_stemmer', 'porter_stemmer']  has f1 score of  0.6227473710985912\n"
     ]
    },
    {
     "name": "stderr",
     "output_type": "stream",
     "text": [
      "/Users/ravimeijer/opt/anaconda3/lib/python3.8/site-packages/sklearn/utils/validation.py:70: FutureWarning: Pass labels=['O', 'B-NEG', 'I-NEG'] as keyword args. From version 1.0 (renaming of 0.25) passing these as positional arguments will result in an error\n",
      "  warnings.warn(f\"Pass {args_msg} as keyword args. From version \"\n"
     ]
    },
    {
     "name": "stdout",
     "output_type": "stream",
     "text": [
      "['next_lemma', 'next_pos']  has f1 score of  0.3343824795342931\n"
     ]
    },
    {
     "name": "stderr",
     "output_type": "stream",
     "text": [
      "/Users/ravimeijer/opt/anaconda3/lib/python3.8/site-packages/sklearn/utils/validation.py:70: FutureWarning: Pass labels=['O', 'B-NEG', 'I-NEG'] as keyword args. From version 1.0 (renaming of 0.25) passing these as positional arguments will result in an error\n",
      "  warnings.warn(f\"Pass {args_msg} as keyword args. From version \"\n"
     ]
    },
    {
     "name": "stdout",
     "output_type": "stream",
     "text": [
      "['prev_lemma', 'prev_pos']  has f1 score of  0.3494603003249099\n"
     ]
    },
    {
     "name": "stderr",
     "output_type": "stream",
     "text": [
      "/Users/ravimeijer/opt/anaconda3/lib/python3.8/site-packages/sklearn/utils/validation.py:70: FutureWarning: Pass labels=['O', 'B-NEG', 'I-NEG'] as keyword args. From version 1.0 (renaming of 0.25) passing these as positional arguments will result in an error\n",
      "  warnings.warn(f\"Pass {args_msg} as keyword args. From version \"\n"
     ]
    },
    {
     "name": "stdout",
     "output_type": "stream",
     "text": [
      "['head', 'dependency']  has f1 score of  0.4836532211002666\n"
     ]
    },
    {
     "name": "stderr",
     "output_type": "stream",
     "text": [
      "/Users/ravimeijer/opt/anaconda3/lib/python3.8/site-packages/sklearn/utils/validation.py:70: FutureWarning: Pass labels=['O', 'B-NEG', 'I-NEG'] as keyword args. From version 1.0 (renaming of 0.25) passing these as positional arguments will result in an error\n",
      "  warnings.warn(f\"Pass {args_msg} as keyword args. From version \"\n"
     ]
    },
    {
     "name": "stdout",
     "output_type": "stream",
     "text": [
      "['is_part_of_negation']  has f1 score of  0.33020826204977305\n"
     ]
    },
    {
     "name": "stderr",
     "output_type": "stream",
     "text": [
      "/Users/ravimeijer/opt/anaconda3/lib/python3.8/site-packages/sklearn/utils/validation.py:70: FutureWarning: Pass labels=['O', 'B-NEG', 'I-NEG'] as keyword args. From version 1.0 (renaming of 0.25) passing these as positional arguments will result in an error\n",
      "  warnings.warn(f\"Pass {args_msg} as keyword args. From version \"\n"
     ]
    },
    {
     "name": "stdout",
     "output_type": "stream",
     "text": [
      "['has_prefix', 'has_postfix', 'has_infix']  has f1 score of  0.330070057734876\n"
     ]
    },
    {
     "name": "stderr",
     "output_type": "stream",
     "text": [
      "/Users/ravimeijer/opt/anaconda3/lib/python3.8/site-packages/sklearn/utils/validation.py:70: FutureWarning: Pass labels=['O', 'B-NEG', 'I-NEG'] as keyword args. From version 1.0 (renaming of 0.25) passing these as positional arguments will result in an error\n",
      "  warnings.warn(f\"Pass {args_msg} as keyword args. From version \"\n"
     ]
    },
    {
     "name": "stdout",
     "output_type": "stream",
     "text": [
      "['base_in_dictionary']  has f1 score of  0.33020826204977305\n"
     ]
    },
    {
     "name": "stderr",
     "output_type": "stream",
     "text": [
      "/Users/ravimeijer/opt/anaconda3/lib/python3.8/site-packages/sklearn/utils/validation.py:70: FutureWarning: Pass labels=['O', 'B-NEG', 'I-NEG'] as keyword args. From version 1.0 (renaming of 0.25) passing these as positional arguments will result in an error\n",
      "  warnings.warn(f\"Pass {args_msg} as keyword args. From version \"\n"
     ]
    },
    {
     "name": "stdout",
     "output_type": "stream",
     "text": [
      "['has_apostrophe']  has f1 score of  0.41385594479102394\n",
      "strategy:  LO\n"
     ]
    },
    {
     "name": "stderr",
     "output_type": "stream",
     "text": [
      "/Users/ravimeijer/opt/anaconda3/lib/python3.8/site-packages/sklearn/utils/validation.py:70: FutureWarning: Pass labels=['O', 'B-NEG', 'I-NEG'] as keyword args. From version 1.0 (renaming of 0.25) passing these as positional arguments will result in an error\n",
      "  warnings.warn(f\"Pass {args_msg} as keyword args. From version \"\n"
     ]
    },
    {
     "name": "stdout",
     "output_type": "stream",
     "text": [
      "['lemma', 'pos', 'prev_lemma', 'next_lemma', 'prev_pos', 'next_pos', 'snowball_stemmer', 'porter_stemmer', 'head', 'dependency', 'is_part_of_negation', 'has_prefix', 'has_postfix', 'has_infix', 'base_in_dictionary', 'has_apostrophe']  has f1 score of  0.8883748016347953\n"
     ]
    },
    {
     "name": "stderr",
     "output_type": "stream",
     "text": [
      "/Users/ravimeijer/opt/anaconda3/lib/python3.8/site-packages/sklearn/utils/validation.py:70: FutureWarning: Pass labels=['O', 'B-NEG', 'I-NEG'] as keyword args. From version 1.0 (renaming of 0.25) passing these as positional arguments will result in an error\n",
      "  warnings.warn(f\"Pass {args_msg} as keyword args. From version \"\n"
     ]
    },
    {
     "name": "stdout",
     "output_type": "stream",
     "text": [
      "['token_no_stop', 'prev_lemma', 'next_lemma', 'prev_pos', 'next_pos', 'head', 'dependency', 'is_part_of_negation', 'has_prefix', 'has_postfix', 'has_infix', 'base_in_dictionary', 'has_apostrophe']  has f1 score of  0.8856514357651356\n"
     ]
    },
    {
     "name": "stderr",
     "output_type": "stream",
     "text": [
      "/Users/ravimeijer/opt/anaconda3/lib/python3.8/site-packages/sklearn/utils/validation.py:70: FutureWarning: Pass labels=['O', 'B-NEG', 'I-NEG'] as keyword args. From version 1.0 (renaming of 0.25) passing these as positional arguments will result in an error\n",
      "  warnings.warn(f\"Pass {args_msg} as keyword args. From version \"\n"
     ]
    },
    {
     "name": "stdout",
     "output_type": "stream",
     "text": [
      "['token_no_stop', 'lemma', 'pos', 'prev_lemma', 'prev_pos', 'snowball_stemmer', 'porter_stemmer', 'head', 'dependency', 'is_part_of_negation', 'has_prefix', 'has_postfix', 'has_infix', 'base_in_dictionary', 'has_apostrophe']  has f1 score of  0.8844824652178912\n"
     ]
    },
    {
     "name": "stderr",
     "output_type": "stream",
     "text": [
      "/Users/ravimeijer/opt/anaconda3/lib/python3.8/site-packages/sklearn/utils/validation.py:70: FutureWarning: Pass labels=['O', 'B-NEG', 'I-NEG'] as keyword args. From version 1.0 (renaming of 0.25) passing these as positional arguments will result in an error\n",
      "  warnings.warn(f\"Pass {args_msg} as keyword args. From version \"\n"
     ]
    },
    {
     "name": "stdout",
     "output_type": "stream",
     "text": [
      "['token_no_stop', 'lemma', 'pos', 'next_lemma', 'next_pos', 'snowball_stemmer', 'porter_stemmer', 'head', 'dependency', 'is_part_of_negation', 'has_prefix', 'has_postfix', 'has_infix', 'base_in_dictionary', 'has_apostrophe']  has f1 score of  0.8929378057715877\n"
     ]
    },
    {
     "name": "stderr",
     "output_type": "stream",
     "text": [
      "/Users/ravimeijer/opt/anaconda3/lib/python3.8/site-packages/sklearn/utils/validation.py:70: FutureWarning: Pass labels=['O', 'B-NEG', 'I-NEG'] as keyword args. From version 1.0 (renaming of 0.25) passing these as positional arguments will result in an error\n",
      "  warnings.warn(f\"Pass {args_msg} as keyword args. From version \"\n"
     ]
    },
    {
     "name": "stdout",
     "output_type": "stream",
     "text": [
      "['token_no_stop', 'lemma', 'pos', 'prev_lemma', 'next_lemma', 'prev_pos', 'next_pos', 'snowball_stemmer', 'porter_stemmer', 'is_part_of_negation', 'has_prefix', 'has_postfix', 'has_infix', 'base_in_dictionary', 'has_apostrophe']  has f1 score of  0.8899077842934346\n"
     ]
    },
    {
     "name": "stderr",
     "output_type": "stream",
     "text": [
      "/Users/ravimeijer/opt/anaconda3/lib/python3.8/site-packages/sklearn/utils/validation.py:70: FutureWarning: Pass labels=['O', 'B-NEG', 'I-NEG'] as keyword args. From version 1.0 (renaming of 0.25) passing these as positional arguments will result in an error\n",
      "  warnings.warn(f\"Pass {args_msg} as keyword args. From version \"\n"
     ]
    },
    {
     "name": "stdout",
     "output_type": "stream",
     "text": [
      "['token_no_stop', 'lemma', 'pos', 'prev_lemma', 'next_lemma', 'prev_pos', 'next_pos', 'snowball_stemmer', 'porter_stemmer', 'head', 'dependency', 'has_prefix', 'has_postfix', 'has_infix', 'base_in_dictionary', 'has_apostrophe']  has f1 score of  0.8899077842934346\n"
     ]
    },
    {
     "name": "stderr",
     "output_type": "stream",
     "text": [
      "/Users/ravimeijer/opt/anaconda3/lib/python3.8/site-packages/sklearn/utils/validation.py:70: FutureWarning: Pass labels=['O', 'B-NEG', 'I-NEG'] as keyword args. From version 1.0 (renaming of 0.25) passing these as positional arguments will result in an error\n",
      "  warnings.warn(f\"Pass {args_msg} as keyword args. From version \"\n"
     ]
    },
    {
     "name": "stdout",
     "output_type": "stream",
     "text": [
      "['token_no_stop', 'lemma', 'pos', 'prev_lemma', 'next_lemma', 'prev_pos', 'next_pos', 'snowball_stemmer', 'porter_stemmer', 'head', 'dependency', 'is_part_of_negation', 'base_in_dictionary', 'has_apostrophe']  has f1 score of  0.8892142267170655\n"
     ]
    },
    {
     "name": "stderr",
     "output_type": "stream",
     "text": [
      "/Users/ravimeijer/opt/anaconda3/lib/python3.8/site-packages/sklearn/utils/validation.py:70: FutureWarning: Pass labels=['O', 'B-NEG', 'I-NEG'] as keyword args. From version 1.0 (renaming of 0.25) passing these as positional arguments will result in an error\n",
      "  warnings.warn(f\"Pass {args_msg} as keyword args. From version \"\n"
     ]
    },
    {
     "name": "stdout",
     "output_type": "stream",
     "text": [
      "['token_no_stop', 'lemma', 'pos', 'prev_lemma', 'next_lemma', 'prev_pos', 'next_pos', 'snowball_stemmer', 'porter_stemmer', 'head', 'dependency', 'is_part_of_negation', 'has_prefix', 'has_postfix', 'has_infix', 'has_apostrophe']  has f1 score of  0.8883748016347953\n",
      "['token_no_stop', 'lemma', 'pos', 'prev_lemma', 'next_lemma', 'prev_pos', 'next_pos', 'snowball_stemmer', 'porter_stemmer', 'head', 'dependency', 'is_part_of_negation', 'has_prefix', 'has_postfix', 'has_infix', 'base_in_dictionary']  has f1 score of  0.8899077842934346\n"
     ]
    },
    {
     "name": "stderr",
     "output_type": "stream",
     "text": [
      "/Users/ravimeijer/opt/anaconda3/lib/python3.8/site-packages/sklearn/utils/validation.py:70: FutureWarning: Pass labels=['O', 'B-NEG', 'I-NEG'] as keyword args. From version 1.0 (renaming of 0.25) passing these as positional arguments will result in an error\n",
      "  warnings.warn(f\"Pass {args_msg} as keyword args. From version \"\n"
     ]
    }
   ],
   "source": [
    "# load data\n",
    "train = pd.read_csv('SEM2012_training_data_with_features.csv', sep=\",\", header=0)\n",
    "dev = pd.read_csv('SEM2012_validation_data_with_features.csv', sep=\",\", header=0)\n",
    "\n",
    "# perform feature ablagation study\n",
    "cms_only, f1s_only, predictions_list_only = run_feature_analysis(strat='ONLY')\n",
    "cms_LO, f1s_LO, predictions_LO = run_feature_analysis(strat='LO')"
   ]
  },
  {
   "cell_type": "code",
   "execution_count": 144,
   "metadata": {},
   "outputs": [
    {
     "data": {
      "image/png": "[encoded data removed]",
      "text/plain": [
       "<Figure size 432x288 with 2 Axes>"
      ]
     },
     "metadata": {
      "needs_background": "light"
     },
     "output_type": "display_data"
    }
   ],
   "source": [
    "# f = sns.heatmap(cms_LO[0], annot=True, fmt='d', xticklabels=labels, yticklabels=labels)"
   ]
  },
  {
   "cell_type": "code",
   "execution_count": 15,
   "metadata": {},
   "outputs": [
    {
     "name": "stdout",
     "output_type": "stream",
     "text": [
      "Basegroup:  ['lemma', 'pos', 'snowball_stemmer', 'porter_stemmer']\n",
      "strategy:  STACK\n"
     ]
    },
    {
     "name": "stderr",
     "output_type": "stream",
     "text": [
      "/Users/ravimeijer/opt/anaconda3/lib/python3.8/site-packages/sklearn/utils/validation.py:70: FutureWarning: Pass labels=['O', 'B-NEG', 'I-NEG'] as keyword args. From version 1.0 (renaming of 0.25) passing these as positional arguments will result in an error\n",
      "  warnings.warn(f\"Pass {args_msg} as keyword args. From version \"\n"
     ]
    },
    {
     "name": "stdout",
     "output_type": "stream",
     "text": [
      "['snowball_stemmer', 'porter_stemmer', 'lemma', 'pos', 'token_no_stop']  has f1 score of  0.6227473710985912\n"
     ]
    },
    {
     "name": "stderr",
     "output_type": "stream",
     "text": [
      "/Users/ravimeijer/opt/anaconda3/lib/python3.8/site-packages/sklearn/utils/validation.py:70: FutureWarning: Pass labels=['O', 'B-NEG', 'I-NEG'] as keyword args. From version 1.0 (renaming of 0.25) passing these as positional arguments will result in an error\n",
      "  warnings.warn(f\"Pass {args_msg} as keyword args. From version \"\n"
     ]
    },
    {
     "name": "stdout",
     "output_type": "stream",
     "text": [
      "['snowball_stemmer', 'pos', 'porter_stemmer', 'lemma']  has f1 score of  0.6227473710985912\n"
     ]
    },
    {
     "name": "stderr",
     "output_type": "stream",
     "text": [
      "/Users/ravimeijer/opt/anaconda3/lib/python3.8/site-packages/sklearn/utils/validation.py:70: FutureWarning: Pass labels=['O', 'B-NEG', 'I-NEG'] as keyword args. From version 1.0 (renaming of 0.25) passing these as positional arguments will result in an error\n",
      "  warnings.warn(f\"Pass {args_msg} as keyword args. From version \"\n"
     ]
    },
    {
     "name": "stdout",
     "output_type": "stream",
     "text": [
      "['snowball_stemmer', 'porter_stemmer', 'next_lemma', 'lemma', 'next_pos', 'pos']  has f1 score of  0.8860807036861601\n"
     ]
    },
    {
     "name": "stderr",
     "output_type": "stream",
     "text": [
      "/Users/ravimeijer/opt/anaconda3/lib/python3.8/site-packages/sklearn/utils/validation.py:70: FutureWarning: Pass labels=['O', 'B-NEG', 'I-NEG'] as keyword args. From version 1.0 (renaming of 0.25) passing these as positional arguments will result in an error\n",
      "  warnings.warn(f\"Pass {args_msg} as keyword args. From version \"\n"
     ]
    },
    {
     "name": "stdout",
     "output_type": "stream",
     "text": [
      "['snowball_stemmer', 'porter_stemmer', 'lemma', 'pos', 'prev_pos', 'prev_lemma']  has f1 score of  0.8829280698954761\n"
     ]
    },
    {
     "name": "stderr",
     "output_type": "stream",
     "text": [
      "/Users/ravimeijer/opt/anaconda3/lib/python3.8/site-packages/sklearn/utils/validation.py:70: FutureWarning: Pass labels=['O', 'B-NEG', 'I-NEG'] as keyword args. From version 1.0 (renaming of 0.25) passing these as positional arguments will result in an error\n",
      "  warnings.warn(f\"Pass {args_msg} as keyword args. From version \"\n"
     ]
    },
    {
     "name": "stdout",
     "output_type": "stream",
     "text": [
      "['dependency', 'snowball_stemmer', 'porter_stemmer', 'lemma', 'pos', 'head']  has f1 score of  0.7848863569161623\n"
     ]
    },
    {
     "name": "stderr",
     "output_type": "stream",
     "text": [
      "/Users/ravimeijer/opt/anaconda3/lib/python3.8/site-packages/sklearn/utils/validation.py:70: FutureWarning: Pass labels=['O', 'B-NEG', 'I-NEG'] as keyword args. From version 1.0 (renaming of 0.25) passing these as positional arguments will result in an error\n",
      "  warnings.warn(f\"Pass {args_msg} as keyword args. From version \"\n"
     ]
    },
    {
     "name": "stdout",
     "output_type": "stream",
     "text": [
      "['snowball_stemmer', 'porter_stemmer', 'lemma', 'pos', 'is_part_of_negation']  has f1 score of  0.8920743176497652\n"
     ]
    },
    {
     "name": "stderr",
     "output_type": "stream",
     "text": [
      "/Users/ravimeijer/opt/anaconda3/lib/python3.8/site-packages/sklearn/utils/validation.py:70: FutureWarning: Pass labels=['O', 'B-NEG', 'I-NEG'] as keyword args. From version 1.0 (renaming of 0.25) passing these as positional arguments will result in an error\n",
      "  warnings.warn(f\"Pass {args_msg} as keyword args. From version \"\n"
     ]
    },
    {
     "name": "stdout",
     "output_type": "stream",
     "text": [
      "['snowball_stemmer', 'porter_stemmer', 'has_prefix', 'lemma', 'has_infix', 'pos', 'has_postfix']  has f1 score of  0.624563800784093\n"
     ]
    },
    {
     "name": "stderr",
     "output_type": "stream",
     "text": [
      "/Users/ravimeijer/opt/anaconda3/lib/python3.8/site-packages/sklearn/utils/validation.py:70: FutureWarning: Pass labels=['O', 'B-NEG', 'I-NEG'] as keyword args. From version 1.0 (renaming of 0.25) passing these as positional arguments will result in an error\n",
      "  warnings.warn(f\"Pass {args_msg} as keyword args. From version \"\n"
     ]
    },
    {
     "name": "stdout",
     "output_type": "stream",
     "text": [
      "['snowball_stemmer', 'porter_stemmer', 'lemma', 'pos', 'base_in_dictionary']  has f1 score of  0.6227473710985912\n"
     ]
    },
    {
     "name": "stderr",
     "output_type": "stream",
     "text": [
      "/Users/ravimeijer/opt/anaconda3/lib/python3.8/site-packages/sklearn/utils/validation.py:70: FutureWarning: Pass labels=['O', 'B-NEG', 'I-NEG'] as keyword args. From version 1.0 (renaming of 0.25) passing these as positional arguments will result in an error\n",
      "  warnings.warn(f\"Pass {args_msg} as keyword args. From version \"\n"
     ]
    },
    {
     "name": "stdout",
     "output_type": "stream",
     "text": [
      "['has_apostrophe', 'snowball_stemmer', 'porter_stemmer', 'lemma', 'pos']  has f1 score of  0.6227473710985912\n",
      "Basegroup:  ['lemma', 'pos', 'snowball_stemmer', 'porter_stemmer', 'is_part_of_negation']\n",
      "F1 score:  0.8920743176497652\n",
      "strategy:  STACK\n"
     ]
    },
    {
     "name": "stderr",
     "output_type": "stream",
     "text": [
      "/Users/ravimeijer/opt/anaconda3/lib/python3.8/site-packages/sklearn/utils/validation.py:70: FutureWarning: Pass labels=['O', 'B-NEG', 'I-NEG'] as keyword args. From version 1.0 (renaming of 0.25) passing these as positional arguments will result in an error\n",
      "  warnings.warn(f\"Pass {args_msg} as keyword args. From version \"\n"
     ]
    },
    {
     "name": "stdout",
     "output_type": "stream",
     "text": [
      "['snowball_stemmer', 'porter_stemmer', 'lemma', 'pos', 'token_no_stop', 'is_part_of_negation']  has f1 score of  0.8920743176497652\n"
     ]
    },
    {
     "name": "stderr",
     "output_type": "stream",
     "text": [
      "/Users/ravimeijer/opt/anaconda3/lib/python3.8/site-packages/sklearn/utils/validation.py:70: FutureWarning: Pass labels=['O', 'B-NEG', 'I-NEG'] as keyword args. From version 1.0 (renaming of 0.25) passing these as positional arguments will result in an error\n",
      "  warnings.warn(f\"Pass {args_msg} as keyword args. From version \"\n"
     ]
    },
    {
     "name": "stdout",
     "output_type": "stream",
     "text": [
      "['snowball_stemmer', 'porter_stemmer', 'lemma', 'pos', 'is_part_of_negation']  has f1 score of  0.8920743176497652\n"
     ]
    },
    {
     "name": "stderr",
     "output_type": "stream",
     "text": [
      "/Users/ravimeijer/opt/anaconda3/lib/python3.8/site-packages/sklearn/utils/validation.py:70: FutureWarning: Pass labels=['O', 'B-NEG', 'I-NEG'] as keyword args. From version 1.0 (renaming of 0.25) passing these as positional arguments will result in an error\n",
      "  warnings.warn(f\"Pass {args_msg} as keyword args. From version \"\n"
     ]
    },
    {
     "name": "stdout",
     "output_type": "stream",
     "text": [
      "['snowball_stemmer', 'porter_stemmer', 'next_lemma', 'lemma', 'next_pos', 'pos', 'is_part_of_negation']  has f1 score of  0.8860807036861601\n"
     ]
    },
    {
     "name": "stderr",
     "output_type": "stream",
     "text": [
      "/Users/ravimeijer/opt/anaconda3/lib/python3.8/site-packages/sklearn/utils/validation.py:70: FutureWarning: Pass labels=['O', 'B-NEG', 'I-NEG'] as keyword args. From version 1.0 (renaming of 0.25) passing these as positional arguments will result in an error\n",
      "  warnings.warn(f\"Pass {args_msg} as keyword args. From version \"\n"
     ]
    },
    {
     "name": "stdout",
     "output_type": "stream",
     "text": [
      "['snowball_stemmer', 'porter_stemmer', 'lemma', 'pos', 'prev_pos', 'prev_lemma', 'is_part_of_negation']  has f1 score of  0.8829280698954761\n"
     ]
    },
    {
     "name": "stderr",
     "output_type": "stream",
     "text": [
      "/Users/ravimeijer/opt/anaconda3/lib/python3.8/site-packages/sklearn/utils/validation.py:70: FutureWarning: Pass labels=['O', 'B-NEG', 'I-NEG'] as keyword args. From version 1.0 (renaming of 0.25) passing these as positional arguments will result in an error\n",
      "  warnings.warn(f\"Pass {args_msg} as keyword args. From version \"\n"
     ]
    },
    {
     "name": "stdout",
     "output_type": "stream",
     "text": [
      "['dependency', 'snowball_stemmer', 'porter_stemmer', 'lemma', 'pos', 'head', 'is_part_of_negation']  has f1 score of  0.8875548020445558\n"
     ]
    },
    {
     "name": "stderr",
     "output_type": "stream",
     "text": [
      "/Users/ravimeijer/opt/anaconda3/lib/python3.8/site-packages/sklearn/utils/validation.py:70: FutureWarning: Pass labels=['O', 'B-NEG', 'I-NEG'] as keyword args. From version 1.0 (renaming of 0.25) passing these as positional arguments will result in an error\n",
      "  warnings.warn(f\"Pass {args_msg} as keyword args. From version \"\n"
     ]
    },
    {
     "name": "stdout",
     "output_type": "stream",
     "text": [
      "['snowball_stemmer', 'porter_stemmer', 'lemma', 'pos', 'is_part_of_negation']  has f1 score of  0.8920743176497652\n"
     ]
    },
    {
     "name": "stderr",
     "output_type": "stream",
     "text": [
      "/Users/ravimeijer/opt/anaconda3/lib/python3.8/site-packages/sklearn/utils/validation.py:70: FutureWarning: Pass labels=['O', 'B-NEG', 'I-NEG'] as keyword args. From version 1.0 (renaming of 0.25) passing these as positional arguments will result in an error\n",
      "  warnings.warn(f\"Pass {args_msg} as keyword args. From version \"\n"
     ]
    },
    {
     "name": "stdout",
     "output_type": "stream",
     "text": [
      "['snowball_stemmer', 'porter_stemmer', 'lemma', 'has_prefix', 'has_infix', 'pos', 'is_part_of_negation', 'has_postfix']  has f1 score of  0.8938603602374329\n"
     ]
    },
    {
     "name": "stderr",
     "output_type": "stream",
     "text": [
      "/Users/ravimeijer/opt/anaconda3/lib/python3.8/site-packages/sklearn/utils/validation.py:70: FutureWarning: Pass labels=['O', 'B-NEG', 'I-NEG'] as keyword args. From version 1.0 (renaming of 0.25) passing these as positional arguments will result in an error\n",
      "  warnings.warn(f\"Pass {args_msg} as keyword args. From version \"\n"
     ]
    },
    {
     "name": "stdout",
     "output_type": "stream",
     "text": [
      "['snowball_stemmer', 'porter_stemmer', 'lemma', 'pos', 'base_in_dictionary', 'is_part_of_negation']  has f1 score of  0.8920743176497652\n"
     ]
    },
    {
     "name": "stderr",
     "output_type": "stream",
     "text": [
      "/Users/ravimeijer/opt/anaconda3/lib/python3.8/site-packages/sklearn/utils/validation.py:70: FutureWarning: Pass labels=['O', 'B-NEG', 'I-NEG'] as keyword args. From version 1.0 (renaming of 0.25) passing these as positional arguments will result in an error\n",
      "  warnings.warn(f\"Pass {args_msg} as keyword args. From version \"\n"
     ]
    },
    {
     "name": "stdout",
     "output_type": "stream",
     "text": [
      "['has_apostrophe', 'snowball_stemmer', 'porter_stemmer', 'lemma', 'pos', 'is_part_of_negation']  has f1 score of  0.8920743176497652\n",
      "Basegroup:  ['lemma', 'pos', 'snowball_stemmer', 'porter_stemmer', 'is_part_of_negation', 'has_prefix', 'has_postfix', 'has_infix']\n",
      "F1 score:  0.8938603602374329\n",
      "strategy:  STACK\n"
     ]
    },
    {
     "name": "stderr",
     "output_type": "stream",
     "text": [
      "/Users/ravimeijer/opt/anaconda3/lib/python3.8/site-packages/sklearn/utils/validation.py:70: FutureWarning: Pass labels=['O', 'B-NEG', 'I-NEG'] as keyword args. From version 1.0 (renaming of 0.25) passing these as positional arguments will result in an error\n",
      "  warnings.warn(f\"Pass {args_msg} as keyword args. From version \"\n"
     ]
    },
    {
     "name": "stdout",
     "output_type": "stream",
     "text": [
      "['snowball_stemmer', 'porter_stemmer', 'lemma', 'has_prefix', 'has_infix', 'pos', 'token_no_stop', 'is_part_of_negation', 'has_postfix']  has f1 score of  0.8938603602374329\n"
     ]
    },
    {
     "name": "stderr",
     "output_type": "stream",
     "text": [
      "/Users/ravimeijer/opt/anaconda3/lib/python3.8/site-packages/sklearn/utils/validation.py:70: FutureWarning: Pass labels=['O', 'B-NEG', 'I-NEG'] as keyword args. From version 1.0 (renaming of 0.25) passing these as positional arguments will result in an error\n",
      "  warnings.warn(f\"Pass {args_msg} as keyword args. From version \"\n"
     ]
    },
    {
     "name": "stdout",
     "output_type": "stream",
     "text": [
      "['snowball_stemmer', 'porter_stemmer', 'lemma', 'has_prefix', 'has_infix', 'pos', 'is_part_of_negation', 'has_postfix']  has f1 score of  0.8938603602374329\n"
     ]
    },
    {
     "name": "stderr",
     "output_type": "stream",
     "text": [
      "/Users/ravimeijer/opt/anaconda3/lib/python3.8/site-packages/sklearn/utils/validation.py:70: FutureWarning: Pass labels=['O', 'B-NEG', 'I-NEG'] as keyword args. From version 1.0 (renaming of 0.25) passing these as positional arguments will result in an error\n",
      "  warnings.warn(f\"Pass {args_msg} as keyword args. From version \"\n"
     ]
    },
    {
     "name": "stdout",
     "output_type": "stream",
     "text": [
      "['snowball_stemmer', 'porter_stemmer', 'next_lemma', 'lemma', 'has_prefix', 'has_infix', 'next_pos', 'pos', 'is_part_of_negation', 'has_postfix']  has f1 score of  0.8883748016347953\n"
     ]
    },
    {
     "name": "stderr",
     "output_type": "stream",
     "text": [
      "/Users/ravimeijer/opt/anaconda3/lib/python3.8/site-packages/sklearn/utils/validation.py:70: FutureWarning: Pass labels=['O', 'B-NEG', 'I-NEG'] as keyword args. From version 1.0 (renaming of 0.25) passing these as positional arguments will result in an error\n",
      "  warnings.warn(f\"Pass {args_msg} as keyword args. From version \"\n"
     ]
    },
    {
     "name": "stdout",
     "output_type": "stream",
     "text": [
      "['snowball_stemmer', 'porter_stemmer', 'lemma', 'has_prefix', 'has_infix', 'pos', 'prev_pos', 'prev_lemma', 'is_part_of_negation', 'has_postfix']  has f1 score of  0.8879088133443673\n"
     ]
    },
    {
     "name": "stderr",
     "output_type": "stream",
     "text": [
      "/Users/ravimeijer/opt/anaconda3/lib/python3.8/site-packages/sklearn/utils/validation.py:70: FutureWarning: Pass labels=['O', 'B-NEG', 'I-NEG'] as keyword args. From version 1.0 (renaming of 0.25) passing these as positional arguments will result in an error\n",
      "  warnings.warn(f\"Pass {args_msg} as keyword args. From version \"\n"
     ]
    },
    {
     "name": "stdout",
     "output_type": "stream",
     "text": [
      "['dependency', 'snowball_stemmer', 'porter_stemmer', 'lemma', 'has_prefix', 'has_infix', 'pos', 'head', 'is_part_of_negation', 'has_postfix']  has f1 score of  0.8879088133443673\n"
     ]
    },
    {
     "name": "stderr",
     "output_type": "stream",
     "text": [
      "/Users/ravimeijer/opt/anaconda3/lib/python3.8/site-packages/sklearn/utils/validation.py:70: FutureWarning: Pass labels=['O', 'B-NEG', 'I-NEG'] as keyword args. From version 1.0 (renaming of 0.25) passing these as positional arguments will result in an error\n",
      "  warnings.warn(f\"Pass {args_msg} as keyword args. From version \"\n"
     ]
    },
    {
     "name": "stdout",
     "output_type": "stream",
     "text": [
      "['snowball_stemmer', 'porter_stemmer', 'lemma', 'has_prefix', 'has_infix', 'pos', 'is_part_of_negation', 'has_postfix']  has f1 score of  0.8938603602374329\n"
     ]
    },
    {
     "name": "stderr",
     "output_type": "stream",
     "text": [
      "/Users/ravimeijer/opt/anaconda3/lib/python3.8/site-packages/sklearn/utils/validation.py:70: FutureWarning: Pass labels=['O', 'B-NEG', 'I-NEG'] as keyword args. From version 1.0 (renaming of 0.25) passing these as positional arguments will result in an error\n",
      "  warnings.warn(f\"Pass {args_msg} as keyword args. From version \"\n"
     ]
    },
    {
     "name": "stdout",
     "output_type": "stream",
     "text": [
      "['snowball_stemmer', 'porter_stemmer', 'lemma', 'has_prefix', 'has_infix', 'pos', 'is_part_of_negation', 'has_postfix']  has f1 score of  0.8938603602374329\n"
     ]
    },
    {
     "name": "stderr",
     "output_type": "stream",
     "text": [
      "/Users/ravimeijer/opt/anaconda3/lib/python3.8/site-packages/sklearn/utils/validation.py:70: FutureWarning: Pass labels=['O', 'B-NEG', 'I-NEG'] as keyword args. From version 1.0 (renaming of 0.25) passing these as positional arguments will result in an error\n",
      "  warnings.warn(f\"Pass {args_msg} as keyword args. From version \"\n"
     ]
    },
    {
     "name": "stdout",
     "output_type": "stream",
     "text": [
      "['snowball_stemmer', 'porter_stemmer', 'lemma', 'has_prefix', 'has_infix', 'pos', 'base_in_dictionary', 'is_part_of_negation', 'has_postfix']  has f1 score of  0.8926999503003922\n",
      "['has_apostrophe', 'snowball_stemmer', 'porter_stemmer', 'lemma', 'has_prefix', 'has_infix', 'pos', 'is_part_of_negation', 'has_postfix']  has f1 score of  0.8938603602374329\n",
      "Basegroup:  ['lemma', 'pos', 'snowball_stemmer', 'porter_stemmer', 'is_part_of_negation', 'has_prefix', 'has_postfix', 'has_infix', 'token_no_stop']\n",
      "F1 score:  0.8938603602374329\n"
     ]
    },
    {
     "name": "stderr",
     "output_type": "stream",
     "text": [
      "/Users/ravimeijer/opt/anaconda3/lib/python3.8/site-packages/sklearn/utils/validation.py:70: FutureWarning: Pass labels=['O', 'B-NEG', 'I-NEG'] as keyword args. From version 1.0 (renaming of 0.25) passing these as positional arguments will result in an error\n",
      "  warnings.warn(f\"Pass {args_msg} as keyword args. From version \"\n"
     ]
    }
   ],
   "source": [
    "feature_groups = [['token_no_stop'],['lemma','pos','snowball_stemmer','porter_stemmer'],['next_lemma','next_pos'], \n",
    "    ['prev_lemma', 'prev_pos'], ['head','dependency'], ['is_part_of_negation'], ['has_prefix','has_postfix','has_infix'],\n",
    "    ['base_in_dictionary'],['has_apostrophe']]\n",
    "\n",
    "prev_max_value = 0\n",
    "\n",
    "max_value = max(f1s_only)\n",
    "max_index = f1s_only.index(max_value)\n",
    "base_group = feature_groups[max_index]\n",
    "print(\"Basegroup: \", base_group)\n",
    "print(\"F1 score: \", max_value)\n",
    "\n",
    "while max_value > prev_max_value:\n",
    "    prev_max_value = max_value\n",
    "    cms_STACK, f1s_STACK, predictions_STACK = run_feature_analysis(strat='STACK', base_group= base_group)\n",
    "    max_value = max(f1s_STACK)\n",
    "    max_index = f1s_STACK.index(max_value)\n",
    "    base_group = base_group + feature_groups[max_index]\n",
    "    print(\"Basegroup: \", base_group)\n",
    "    print(\"F1 score: \", max_value)"
   ]
  }
 ],
 "metadata": {
  "interpreter": {
   "hash": "b0658e4561313c79abdb6145ee817af4de56f1cefe416636511aae6283741994"
  },
  "kernelspec": {
   "display_name": "Python 3.8.11 64-bit ('base': conda)",
   "name": "python3"
  },
  "language_info": {
   "codemirror_mode": {
    "name": "ipython",
    "version": 3
   },
   "file_extension": ".py",
   "mimetype": "text/x-python",
   "name": "python",
   "nbconvert_exporter": "python",
   "pygments_lexer": "ipython3",
   "version": "3.8.11"
  },
  "orig_nbformat": 4
 },
 "nbformat": 4,
 "nbformat_minor": 2
}
