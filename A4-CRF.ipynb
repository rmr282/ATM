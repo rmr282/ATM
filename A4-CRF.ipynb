{
  "cells": [
    {
      "cell_type": "code",
      "execution_count": null,
      "metadata": {
        "id": "znq1RvIwnXLt"
      },
      "outputs": [],
      "source": [
        "import csv\n",
        "import pandas as pd\n",
        "import os"
      ]
    },
    {
      "cell_type": "code",
      "execution_count": null,
      "metadata": {
        "colab": {
          "base_uri": "https://localhost:8080/"
        },
        "id": "MW9guZ4_orwq",
        "outputId": "0e45c1c3-12c5-45e1-fb6b-8da02d481c4d"
      },
      "outputs": [
        {
          "output_type": "execute_result",
          "data": {
            "text/plain": [
              "['.config', 'drive', 'sample_data']"
            ]
          },
          "metadata": {},
          "execution_count": 2
        }
      ],
      "source": [
        "os.listdir()"
      ]
    },
    {
      "cell_type": "code",
      "execution_count": null,
      "metadata": {
        "colab": {
          "base_uri": "https://localhost:8080/",
          "height": 182
        },
        "id": "JZb01BFUoTIG",
        "outputId": "766b08f4-e5a4-4dbb-e0c0-ac1919fc2682"
      },
      "outputs": [
        {
          "output_type": "error",
          "ename": "FileNotFoundError",
          "evalue": "ignored",
          "traceback": [
            "\u001b[0;31m---------------------------------------------------------------------------\u001b[0m",
            "\u001b[0;31mFileNotFoundError\u001b[0m                         Traceback (most recent call last)",
            "\u001b[0;32m<ipython-input-3-09ed26459ac8>\u001b[0m in \u001b[0;36m<module>\u001b[0;34m()\u001b[0m\n\u001b[0;32m----> 1\u001b[0;31m \u001b[0mos\u001b[0m\u001b[0;34m.\u001b[0m\u001b[0mchdir\u001b[0m\u001b[0;34m(\u001b[0m\u001b[0;34m'ATM '\u001b[0m\u001b[0;34m)\u001b[0m\u001b[0;34m\u001b[0m\u001b[0;34m\u001b[0m\u001b[0m\n\u001b[0m\u001b[1;32m      2\u001b[0m \u001b[0mos\u001b[0m\u001b[0;34m.\u001b[0m\u001b[0mgetcwd\u001b[0m\u001b[0;34m(\u001b[0m\u001b[0;34m)\u001b[0m\u001b[0;34m\u001b[0m\u001b[0;34m\u001b[0m\u001b[0m\n",
            "\u001b[0;31mFileNotFoundError\u001b[0m: [Errno 2] No such file or directory: 'ATM '"
          ]
        }
      ],
      "source": [
        "os.chdir('ATM ') \n",
        "os.getcwd()"
      ]
    },
    {
      "cell_type": "code",
      "execution_count": null,
      "metadata": {
        "colab": {
          "base_uri": "https://localhost:8080/",
          "height": 270
        },
        "id": "mNY_CKnUoGm2",
        "outputId": "d7faba0b-4dba-44cb-884d-98c46952a76a"
      },
      "outputs": [
        {
          "output_type": "execute_result",
          "data": {
            "text/html": [
              "\n",
              "  <div id=\"df-f5c30a67-dff9-49ec-ba0a-5d31d37ac9b8\">\n",
              "    <div class=\"colab-df-container\">\n",
              "      <div>\n",
              "<style scoped>\n",
              "    .dataframe tbody tr th:only-of-type {\n",
              "        vertical-align: middle;\n",
              "    }\n",
              "\n",
              "    .dataframe tbody tr th {\n",
              "        vertical-align: top;\n",
              "    }\n",
              "\n",
              "    .dataframe thead th {\n",
              "        text-align: right;\n",
              "    }\n",
              "</style>\n",
              "<table border=\"1\" class=\"dataframe\">\n",
              "  <thead>\n",
              "    <tr style=\"text-align: right;\">\n",
              "      <th></th>\n",
              "      <th>annotator</th>\n",
              "      <th>sentence_id</th>\n",
              "      <th>token_id</th>\n",
              "      <th>token</th>\n",
              "      <th>label</th>\n",
              "      <th>token_lower</th>\n",
              "      <th>token_no_punct</th>\n",
              "      <th>token_no_stop</th>\n",
              "      <th>lemma</th>\n",
              "      <th>pos</th>\n",
              "      <th>prev_lemma</th>\n",
              "      <th>next_lemma</th>\n",
              "      <th>prev_pos</th>\n",
              "      <th>next_pos</th>\n",
              "      <th>snowball_stemmer</th>\n",
              "      <th>Porter_stemmer</th>\n",
              "      <th>head</th>\n",
              "      <th>dependency</th>\n",
              "      <th>is_part_of_negation</th>\n",
              "      <th>has_prefix</th>\n",
              "      <th>has_postfix</th>\n",
              "      <th>has_infix</th>\n",
              "      <th>base</th>\n",
              "      <th>base_in_dictionary</th>\n",
              "      <th>has_apostrophe</th>\n",
              "    </tr>\n",
              "  </thead>\n",
              "  <tbody>\n",
              "    <tr>\n",
              "      <th>0</th>\n",
              "      <td>baskervilles01</td>\n",
              "      <td>0</td>\n",
              "      <td>0</td>\n",
              "      <td>chapter</td>\n",
              "      <td>O</td>\n",
              "      <td>chapter</td>\n",
              "      <td>chapter</td>\n",
              "      <td>chapter</td>\n",
              "      <td>chapter</td>\n",
              "      <td>NOUN</td>\n",
              "      <td>NaN</td>\n",
              "      <td>1</td>\n",
              "      <td>NaN</td>\n",
              "      <td>X</td>\n",
              "      <td>chapter</td>\n",
              "      <td>chapter</td>\n",
              "      <td>5</td>\n",
              "      <td>nmod</td>\n",
              "      <td>0</td>\n",
              "      <td>False</td>\n",
              "      <td>False</td>\n",
              "      <td>False</td>\n",
              "      <td>chapter</td>\n",
              "      <td>True</td>\n",
              "      <td>False</td>\n",
              "    </tr>\n",
              "    <tr>\n",
              "      <th>1</th>\n",
              "      <td>baskervilles01</td>\n",
              "      <td>0</td>\n",
              "      <td>1</td>\n",
              "      <td>1.</td>\n",
              "      <td>O</td>\n",
              "      <td>1.</td>\n",
              "      <td>1</td>\n",
              "      <td>1</td>\n",
              "      <td>1</td>\n",
              "      <td>X</td>\n",
              "      <td>chapter</td>\n",
              "      <td>mr</td>\n",
              "      <td>NOUN</td>\n",
              "      <td>NOUN</td>\n",
              "      <td>1.</td>\n",
              "      <td>1.</td>\n",
              "      <td>1</td>\n",
              "      <td>nummod</td>\n",
              "      <td>0</td>\n",
              "      <td>False</td>\n",
              "      <td>False</td>\n",
              "      <td>False</td>\n",
              "      <td>1.</td>\n",
              "      <td>False</td>\n",
              "      <td>False</td>\n",
              "    </tr>\n",
              "    <tr>\n",
              "      <th>2</th>\n",
              "      <td>baskervilles01</td>\n",
              "      <td>0</td>\n",
              "      <td>2</td>\n",
              "      <td>mr.</td>\n",
              "      <td>O</td>\n",
              "      <td>mr.</td>\n",
              "      <td>mr</td>\n",
              "      <td>mr</td>\n",
              "      <td>mr</td>\n",
              "      <td>NOUN</td>\n",
              "      <td>1</td>\n",
              "      <td>sherlock</td>\n",
              "      <td>X</td>\n",
              "      <td>VERB</td>\n",
              "      <td>mr.</td>\n",
              "      <td>mr.</td>\n",
              "      <td>1</td>\n",
              "      <td>nummod</td>\n",
              "      <td>0</td>\n",
              "      <td>False</td>\n",
              "      <td>False</td>\n",
              "      <td>False</td>\n",
              "      <td>mr.</td>\n",
              "      <td>False</td>\n",
              "      <td>False</td>\n",
              "    </tr>\n",
              "    <tr>\n",
              "      <th>3</th>\n",
              "      <td>baskervilles01</td>\n",
              "      <td>0</td>\n",
              "      <td>3</td>\n",
              "      <td>sherlock</td>\n",
              "      <td>O</td>\n",
              "      <td>sherlock</td>\n",
              "      <td>sherlock</td>\n",
              "      <td>sherlock</td>\n",
              "      <td>sherlock</td>\n",
              "      <td>VERB</td>\n",
              "      <td>mr</td>\n",
              "      <td>holme</td>\n",
              "      <td>NOUN</td>\n",
              "      <td>NOUN</td>\n",
              "      <td>sherlock</td>\n",
              "      <td>sherlock</td>\n",
              "      <td>5</td>\n",
              "      <td>compound</td>\n",
              "      <td>0</td>\n",
              "      <td>False</td>\n",
              "      <td>False</td>\n",
              "      <td>False</td>\n",
              "      <td>sherlock</td>\n",
              "      <td>True</td>\n",
              "      <td>False</td>\n",
              "    </tr>\n",
              "    <tr>\n",
              "      <th>4</th>\n",
              "      <td>baskervilles01</td>\n",
              "      <td>0</td>\n",
              "      <td>4</td>\n",
              "      <td>holmes</td>\n",
              "      <td>O</td>\n",
              "      <td>holmes</td>\n",
              "      <td>holmes</td>\n",
              "      <td>holmes</td>\n",
              "      <td>holme</td>\n",
              "      <td>NOUN</td>\n",
              "      <td>sherlock</td>\n",
              "      <td>mr</td>\n",
              "      <td>VERB</td>\n",
              "      <td>NOUN</td>\n",
              "      <td>holm</td>\n",
              "      <td>holm</td>\n",
              "      <td>0</td>\n",
              "      <td>ROOT</td>\n",
              "      <td>0</td>\n",
              "      <td>False</td>\n",
              "      <td>False</td>\n",
              "      <td>False</td>\n",
              "      <td>holmes</td>\n",
              "      <td>False</td>\n",
              "      <td>False</td>\n",
              "    </tr>\n",
              "  </tbody>\n",
              "</table>\n",
              "</div>\n",
              "      <button class=\"colab-df-convert\" onclick=\"convertToInteractive('df-f5c30a67-dff9-49ec-ba0a-5d31d37ac9b8')\"\n",
              "              title=\"Convert this dataframe to an interactive table.\"\n",
              "              style=\"display:none;\">\n",
              "        \n",
              "  <svg xmlns=\"http://www.w3.org/2000/svg\" height=\"24px\"viewBox=\"0 0 24 24\"\n",
              "       width=\"24px\">\n",
              "    <path d=\"M0 0h24v24H0V0z\" fill=\"none\"/>\n",
              "    <path d=\"M18.56 5.44l.94 2.06.94-2.06 2.06-.94-2.06-.94-.94-2.06-.94 2.06-2.06.94zm-11 1L8.5 8.5l.94-2.06 2.06-.94-2.06-.94L8.5 2.5l-.94 2.06-2.06.94zm10 10l.94 2.06.94-2.06 2.06-.94-2.06-.94-.94-2.06-.94 2.06-2.06.94z\"/><path d=\"M17.41 7.96l-1.37-1.37c-.4-.4-.92-.59-1.43-.59-.52 0-1.04.2-1.43.59L10.3 9.45l-7.72 7.72c-.78.78-.78 2.05 0 2.83L4 21.41c.39.39.9.59 1.41.59.51 0 1.02-.2 1.41-.59l7.78-7.78 2.81-2.81c.8-.78.8-2.07 0-2.86zM5.41 20L4 18.59l7.72-7.72 1.47 1.35L5.41 20z\"/>\n",
              "  </svg>\n",
              "      </button>\n",
              "      \n",
              "  <style>\n",
              "    .colab-df-container {\n",
              "      display:flex;\n",
              "      flex-wrap:wrap;\n",
              "      gap: 12px;\n",
              "    }\n",
              "\n",
              "    .colab-df-convert {\n",
              "      background-color: #E8F0FE;\n",
              "      border: none;\n",
              "      border-radius: 50%;\n",
              "      cursor: pointer;\n",
              "      display: none;\n",
              "      fill: #1967D2;\n",
              "      height: 32px;\n",
              "      padding: 0 0 0 0;\n",
              "      width: 32px;\n",
              "    }\n",
              "\n",
              "    .colab-df-convert:hover {\n",
              "      background-color: #E2EBFA;\n",
              "      box-shadow: 0px 1px 2px rgba(60, 64, 67, 0.3), 0px 1px 3px 1px rgba(60, 64, 67, 0.15);\n",
              "      fill: #174EA6;\n",
              "    }\n",
              "\n",
              "    [theme=dark] .colab-df-convert {\n",
              "      background-color: #3B4455;\n",
              "      fill: #D2E3FC;\n",
              "    }\n",
              "\n",
              "    [theme=dark] .colab-df-convert:hover {\n",
              "      background-color: #434B5C;\n",
              "      box-shadow: 0px 1px 3px 1px rgba(0, 0, 0, 0.15);\n",
              "      filter: drop-shadow(0px 1px 2px rgba(0, 0, 0, 0.3));\n",
              "      fill: #FFFFFF;\n",
              "    }\n",
              "  </style>\n",
              "\n",
              "      <script>\n",
              "        const buttonEl =\n",
              "          document.querySelector('#df-f5c30a67-dff9-49ec-ba0a-5d31d37ac9b8 button.colab-df-convert');\n",
              "        buttonEl.style.display =\n",
              "          google.colab.kernel.accessAllowed ? 'block' : 'none';\n",
              "\n",
              "        async function convertToInteractive(key) {\n",
              "          const element = document.querySelector('#df-f5c30a67-dff9-49ec-ba0a-5d31d37ac9b8');\n",
              "          const dataTable =\n",
              "            await google.colab.kernel.invokeFunction('convertToInteractive',\n",
              "                                                     [key], {});\n",
              "          if (!dataTable) return;\n",
              "\n",
              "          const docLinkHtml = 'Like what you see? Visit the ' +\n",
              "            '<a target=\"_blank\" href=https://colab.research.google.com/notebooks/data_table.ipynb>data table notebook</a>'\n",
              "            + ' to learn more about interactive tables.';\n",
              "          element.innerHTML = '';\n",
              "          dataTable['output_type'] = 'display_data';\n",
              "          await google.colab.output.renderOutput(dataTable, element);\n",
              "          const docLink = document.createElement('div');\n",
              "          docLink.innerHTML = docLinkHtml;\n",
              "          element.appendChild(docLink);\n",
              "        }\n",
              "      </script>\n",
              "    </div>\n",
              "  </div>\n",
              "  "
            ],
            "text/plain": [
              "        annotator  sentence_id  ...  base_in_dictionary has_apostrophe\n",
              "0  baskervilles01            0  ...                True          False\n",
              "1  baskervilles01            0  ...               False          False\n",
              "2  baskervilles01            0  ...               False          False\n",
              "3  baskervilles01            0  ...                True          False\n",
              "4  baskervilles01            0  ...               False          False\n",
              "\n",
              "[5 rows x 25 columns]"
            ]
          },
          "metadata": {},
          "execution_count": 14
        }
      ],
      "source": [
        "file_path =  '/content/drive/MyDrive/ATM /SEM2012_training_data_with_features.csv'\n",
        "data = pd.read_csv(file_path)\n",
        "\n",
        "\n",
        "file_path_test =  '/content/drive/MyDrive/ATM /SEM2012_validation_data_with_features.csv'\n",
        "data_test = pd.read_csv(file_path_test)\n",
        "\n",
        "data.head(5)"
      ]
    },
    {
      "cell_type": "code",
      "execution_count": null,
      "metadata": {
        "colab": {
          "base_uri": "https://localhost:8080/"
        },
        "id": "mW6AMr02o_15",
        "outputId": "7e91ab41-a3e2-4250-e68b-f219d92aedf4"
      },
      "outputs": [
        {
          "output_type": "stream",
          "name": "stdout",
          "text": [
            "3640\n",
            "3640\n"
          ]
        }
      ],
      "source": [
        "def transform_to_crf(dataframe):\n",
        "\n",
        "  column_values = dataframe[['annotator']].values.ravel()\n",
        "  annotator_ids = pd.unique(column_values)\n",
        "  X_ready = []\n",
        "  y_ready = []\n",
        "\n",
        "  for annotator in annotator_ids:  # for each annotator\n",
        "      # get the data for the annotator\n",
        "      annotator_data = dataframe[dataframe['annotator'] == annotator]\n",
        "      # get the sentence ids\n",
        "      column_values = annotator_data[['sentence_id']].values.ravel()\n",
        "      sentence_ids = pd.unique(column_values)  # get the unique sentence ids\n",
        "\n",
        "      for sent_id in sentence_ids:\n",
        "        new_sentence = []\n",
        "        sentence = annotator_data.loc[annotator_data['sentence_id']\n",
        "                                            == sent_id]\n",
        "        X= sentence.loc[:, sentence.columns != 'label']\n",
        "        y = sentence['label'].values.ravel()\n",
        "        for i, token_features in X.iterrows():\n",
        "          new_sentence.append(token_features.to_dict())\n",
        "        X_ready.append(new_sentence)\n",
        "        y_ready.append(list(y))\n",
        "\n",
        "  return X_ready, y_ready\n",
        "\n",
        "import sklearn_crfsuite\n",
        "from sklearn_crfsuite import metrics\n",
        "\n",
        "X_train, y_train = transform_to_crf(data)\n",
        "\n",
        "\n",
        "print(len(X_train))\n",
        "print(len(y_train))\n",
        "\n",
        "X_test, y_test = transform_to_crf(data_test)\n",
        "\n",
        "print(len(X_test))\n",
        "print(len(y_test))"
      ]
    },
    {
      "cell_type": "code",
      "execution_count": null,
      "metadata": {
        "id": "FRIJH7qlpOKG"
      },
      "outputs": [],
      "source": [
        "crf = sklearn_crfsuite.CRF(\n",
        " algorithm='lbfgs', \n",
        " c1=0.1, \n",
        " c2=0.1, \n",
        " max_iterations=100, \n",
        " all_possible_transitions=True\n",
        ")\n",
        "\n",
        "try:\n",
        "    crf.fit(X_train, y_train)\n",
        "except AttributeError:\n",
        "    pass\n",
        "\n",
        "predictions = crf.predict(X_test)"
      ]
    },
    {
      "cell_type": "code",
      "execution_count": 41,
      "metadata": {
        "id": "rGkwiE2Vuuf0",
        "colab": {
          "base_uri": "https://localhost:8080/"
        },
        "outputId": "5a4081ff-9faa-4aef-d015-c7447aa17250"
      },
      "outputs": [
        {
          "output_type": "execute_result",
          "data": {
            "text/plain": [
              "0.8912303626400145"
            ]
          },
          "metadata": {},
          "execution_count": 41
        }
      ],
      "source": [
        "from sklearn_crfsuite import metrics\n",
        "labels = list(crf.classes_)\n",
        "metrics.flat_f1_score(y_test, predictions,\n",
        "                      average='macro', labels=labels)\n"
      ]
    },
    {
      "cell_type": "code",
      "source": [
        "from sklearn.metrics import multilabel_confusion_matrix\n",
        "cm = confusion_matrix(y_test_flatten, predictions_flatten, labels)\n",
        "cm"
      ],
      "metadata": {
        "id": "2OP5QkV3-EzG",
        "colab": {
          "base_uri": "https://localhost:8080/"
        },
        "outputId": "613d4af8-a931-47b1-e032-2ee223ffca04"
      },
      "execution_count": 39,
      "outputs": [
        {
          "output_type": "stream",
          "name": "stderr",
          "text": [
            "/usr/local/lib/python3.7/dist-packages/sklearn/utils/validation.py:72: FutureWarning: Pass labels=['O', 'B-NEG', 'I-NEG'] as keyword args. From version 1.0 (renaming of 0.25) passing these as positional arguments will result in an error\n",
            "  return f(**kwargs)\n"
          ]
        },
        {
          "output_type": "execute_result",
          "data": {
            "text/plain": [
              "array([[7227,   11,    0],\n",
              "       [  21,  113,    0],\n",
              "       [   1,    0,    2]])"
            ]
          },
          "metadata": {},
          "execution_count": 39
        }
      ]
    },
    {
      "cell_type": "code",
      "source": [
        "y_test_flatten = [y for x in y_test for y in x]\n",
        "predictions_flatten = [y for x in predictions for y in x]"
      ],
      "metadata": {
        "id": "L79qT3R1CVGF"
      },
      "execution_count": 26,
      "outputs": []
    },
    {
      "cell_type": "code",
      "source": [
        "import matplotlib.pyplot as plt\n",
        "from sklearn.metrics import ConfusionMatrixDisplay\n",
        "\n",
        "f = sns.heatmap(cm, annot=True, fmt='d', xticklabels=labels, yticklabels=labels)"
      ],
      "metadata": {
        "colab": {
          "base_uri": "https://localhost:8080/",
          "height": 265
        },
        "id": "4Da5qP7LDgTr",
        "outputId": "e10cfa10-9a67-4dda-c9b8-e785fca84db9"
      },
      "execution_count": 40,
      "outputs": [
        {
          "output_type": "display_data",
          "data": {
            "image/png": "[encoded data removed]",
            "text/plain": [
              "<Figure size 432x288 with 2 Axes>"
            ]
          },
          "metadata": {
            "needs_background": "light"
          }
        }
      ]
    },
    {
      "cell_type": "code",
      "source": [
        ""
      ],
      "metadata": {
        "id": "faquzv_mEI22"
      },
      "execution_count": null,
      "outputs": []
    }
  ],
  "metadata": {
    "colab": {
      "name": "ATM-A4.ipynb",
      "provenance": []
    },
    "kernelspec": {
      "display_name": "Python 3",
      "name": "python3"
    },
    "language_info": {
      "name": "python"
    }
  },
  "nbformat": 4,
  "nbformat_minor": 0
}