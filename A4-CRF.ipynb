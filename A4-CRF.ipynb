{
  "cells": [
    {
      "cell_type": "code",
      "execution_count": 6,
      "metadata": {
        "id": "znq1RvIwnXLt"
      },
      "outputs": [
        {
          "ename": "ModuleNotFoundError",
          "evalue": "No module named 'pandas'",
          "output_type": "error",
          "traceback": [
            "\u001b[0;31m---------------------------------------------------------------------------\u001b[0m",
            "\u001b[0;31mModuleNotFoundError\u001b[0m                       Traceback (most recent call last)",
            "Input \u001b[0;32mIn [6]\u001b[0m, in \u001b[0;36m<module>\u001b[0;34m\u001b[0m\n\u001b[1;32m      1\u001b[0m \u001b[38;5;28;01mimport\u001b[39;00m \u001b[38;5;21;01mcsv\u001b[39;00m\n\u001b[0;32m----> 2\u001b[0m \u001b[38;5;28;01mimport\u001b[39;00m \u001b[38;5;21;01mpandas\u001b[39;00m \u001b[38;5;28;01mas\u001b[39;00m \u001b[38;5;21;01mpd\u001b[39;00m\n\u001b[1;32m      3\u001b[0m \u001b[38;5;28;01mimport\u001b[39;00m \u001b[38;5;21;01mos\u001b[39;00m\n",
            "\u001b[0;31mModuleNotFoundError\u001b[0m: No module named 'pandas'"
          ]
        }
      ],
      "source": [
        "import csv\n",
        "import pandas as pd\n",
        "import os"
      ]
    },
    {
      "cell_type": "code",
      "execution_count": null,
      "metadata": {
        "colab": {
          "base_uri": "https://localhost:8080/"
        },
        "id": "MW9guZ4_orwq",
        "outputId": "0e45c1c3-12c5-45e1-fb6b-8da02d481c4d"
      },
      "outputs": [
        {
          "data": {
            "text/plain": [
              "['.config', 'drive', 'sample_data']"
            ]
          },
          "execution_count": 2,
          "metadata": {},
          "output_type": "execute_result"
        }
      ],
      "source": [
        "os.listdir()"
      ]
    },
    {
      "cell_type": "code",
      "execution_count": 2,
      "metadata": {
        "colab": {
          "base_uri": "https://localhost:8080/",
          "height": 182
        },
        "id": "JZb01BFUoTIG",
        "outputId": "766b08f4-e5a4-4dbb-e0c0-ac1919fc2682"
      },
      "outputs": [
        {
          "ename": "FileNotFoundError",
          "evalue": "[Errno 2] No such file or directory: 'ATM '",
          "output_type": "error",
          "traceback": [
            "\u001b[0;31m---------------------------------------------------------------------------\u001b[0m",
            "\u001b[0;31mFileNotFoundError\u001b[0m                         Traceback (most recent call last)",
            "Input \u001b[0;32mIn [2]\u001b[0m, in \u001b[0;36m<module>\u001b[0;34m\u001b[0m\n\u001b[0;32m----> 1\u001b[0m \u001b[43mos\u001b[49m\u001b[38;5;241;43m.\u001b[39;49m\u001b[43mchdir\u001b[49m\u001b[43m(\u001b[49m\u001b[38;5;124;43m'\u001b[39;49m\u001b[38;5;124;43mATM \u001b[39;49m\u001b[38;5;124;43m'\u001b[39;49m\u001b[43m)\u001b[49m \n\u001b[1;32m      2\u001b[0m os\u001b[38;5;241m.\u001b[39mgetcwd()\n",
            "\u001b[0;31mFileNotFoundError\u001b[0m: [Errno 2] No such file or directory: 'ATM '"
          ]
        }
      ],
      "source": [
        "os.chdir('ATM ') \n",
        "os.getcwd()"
      ]
    },
    {
      "cell_type": "code",
      "execution_count": 3,
      "metadata": {
        "colab": {
          "base_uri": "https://localhost:8080/",
          "height": 270
        },
        "id": "mNY_CKnUoGm2",
        "outputId": "d7faba0b-4dba-44cb-884d-98c46952a76a"
      },
      "outputs": [
        {
          "ename": "NameError",
          "evalue": "name 'pd' is not defined",
          "output_type": "error",
          "traceback": [
            "\u001b[0;31m---------------------------------------------------------------------------\u001b[0m",
            "\u001b[0;31mNameError\u001b[0m                                 Traceback (most recent call last)",
            "Input \u001b[0;32mIn [3]\u001b[0m, in \u001b[0;36m<module>\u001b[0;34m\u001b[0m\n\u001b[1;32m      1\u001b[0m file_path \u001b[38;5;241m=\u001b[39m  \u001b[38;5;124m'\u001b[39m\u001b[38;5;124m/content/drive/MyDrive/ATM /SEM2012_training_data_with_features.csv\u001b[39m\u001b[38;5;124m'\u001b[39m\n\u001b[0;32m----> 2\u001b[0m data \u001b[38;5;241m=\u001b[39m \u001b[43mpd\u001b[49m\u001b[38;5;241m.\u001b[39mread_csv(file_path)\n\u001b[1;32m      5\u001b[0m file_path_test \u001b[38;5;241m=\u001b[39m  \u001b[38;5;124m'\u001b[39m\u001b[38;5;124m/content/drive/MyDrive/ATM /SEM2012_validation_data_with_features.csv\u001b[39m\u001b[38;5;124m'\u001b[39m\n\u001b[1;32m      6\u001b[0m data_test \u001b[38;5;241m=\u001b[39m pd\u001b[38;5;241m.\u001b[39mread_csv(file_path_test)\n",
            "\u001b[0;31mNameError\u001b[0m: name 'pd' is not defined"
          ]
        }
      ],
      "source": [
        "file_path =  '/content/drive/MyDrive/ATM /SEM2012_training_data_with_features.csv'\n",
        "data = pd.read_csv(file_path)\n",
        "\n",
        "\n",
        "file_path_test =  '/content/drive/MyDrive/ATM /SEM2012_validation_data_with_features.csv'\n",
        "data_test = pd.read_csv(file_path_test)\n",
        "\n",
        "data.head(5)"
      ]
    },
    {
      "cell_type": "code",
      "execution_count": 4,
      "metadata": {
        "colab": {
          "base_uri": "https://localhost:8080/"
        },
        "id": "mW6AMr02o_15",
        "outputId": "7e91ab41-a3e2-4250-e68b-f219d92aedf4"
      },
      "outputs": [
        {
          "ename": "ModuleNotFoundError",
          "evalue": "No module named 'sklearn_crfsuite'",
          "output_type": "error",
          "traceback": [
            "\u001b[0;31m---------------------------------------------------------------------------\u001b[0m",
            "\u001b[0;31mModuleNotFoundError\u001b[0m                       Traceback (most recent call last)",
            "Input \u001b[0;32mIn [4]\u001b[0m, in \u001b[0;36m<module>\u001b[0;34m\u001b[0m\n\u001b[1;32m     24\u001b[0m         y_ready\u001b[38;5;241m.\u001b[39mappend(\u001b[38;5;28mlist\u001b[39m(y))\n\u001b[1;32m     26\u001b[0m   \u001b[38;5;28;01mreturn\u001b[39;00m X_ready, y_ready\n\u001b[0;32m---> 28\u001b[0m \u001b[38;5;28;01mimport\u001b[39;00m \u001b[38;5;21;01msklearn_crfsuite\u001b[39;00m\n\u001b[1;32m     29\u001b[0m \u001b[38;5;28;01mfrom\u001b[39;00m \u001b[38;5;21;01msklearn_crfsuite\u001b[39;00m \u001b[38;5;28;01mimport\u001b[39;00m metrics\n\u001b[1;32m     31\u001b[0m X_train, y_train \u001b[38;5;241m=\u001b[39m transform_to_crf(data)\n",
            "\u001b[0;31mModuleNotFoundError\u001b[0m: No module named 'sklearn_crfsuite'"
          ]
        }
      ],
      "source": [
        "def transform_to_crf(dataframe):\n",
        "\n",
        "  column_values = dataframe[['annotator']].values.ravel()\n",
        "  annotator_ids = pd.unique(column_values)\n",
        "  X_ready = []\n",
        "  y_ready = []\n",
        "\n",
        "  for annotator in annotator_ids:  # for each annotator\n",
        "      # get the data for the annotator\n",
        "      annotator_data = dataframe[dataframe['annotator'] == annotator]\n",
        "      # get the sentence ids\n",
        "      column_values = annotator_data[['sentence_id']].values.ravel()\n",
        "      sentence_ids = pd.unique(column_values)  # get the unique sentence ids\n",
        "\n",
        "      for sent_id in sentence_ids:\n",
        "        new_sentence = []\n",
        "        sentence = annotator_data.loc[annotator_data['sentence_id']\n",
        "                                            == sent_id]\n",
        "        X= sentence.loc[:, sentence.columns != 'label']\n",
        "        y = sentence['label'].values.ravel()\n",
        "        for i, token_features in X.iterrows():\n",
        "          new_sentence.append(token_features.to_dict())\n",
        "        X_ready.append(new_sentence)\n",
        "        y_ready.append(list(y))\n",
        "\n",
        "  return X_ready, y_ready\n",
        "\n",
        "import sklearn_crfsuite\n",
        "from sklearn_crfsuite import metrics\n",
        "\n",
        "X_train, y_train = transform_to_crf(data)\n",
        "\n",
        "\n",
        "print(len(X_train))\n",
        "print(len(y_train))\n",
        "\n",
        "X_test, y_test = transform_to_crf(data_test)\n",
        "\n",
        "print(len(X_test))\n",
        "print(len(y_test))"
      ]
    },
    {
      "cell_type": "code",
      "execution_count": 5,
      "metadata": {
        "id": "FRIJH7qlpOKG"
      },
      "outputs": [
        {
          "ename": "NameError",
          "evalue": "name 'sklearn_crfsuite' is not defined",
          "output_type": "error",
          "traceback": [
            "\u001b[0;31m---------------------------------------------------------------------------\u001b[0m",
            "\u001b[0;31mNameError\u001b[0m                                 Traceback (most recent call last)",
            "Input \u001b[0;32mIn [5]\u001b[0m, in \u001b[0;36m<module>\u001b[0;34m\u001b[0m\n\u001b[0;32m----> 1\u001b[0m crf \u001b[38;5;241m=\u001b[39m \u001b[43msklearn_crfsuite\u001b[49m\u001b[38;5;241m.\u001b[39mCRF(\n\u001b[1;32m      2\u001b[0m  algorithm\u001b[38;5;241m=\u001b[39m\u001b[38;5;124m'\u001b[39m\u001b[38;5;124mlbfgs\u001b[39m\u001b[38;5;124m'\u001b[39m, \n\u001b[1;32m      3\u001b[0m  c1\u001b[38;5;241m=\u001b[39m\u001b[38;5;241m0.1\u001b[39m, \n\u001b[1;32m      4\u001b[0m  c2\u001b[38;5;241m=\u001b[39m\u001b[38;5;241m0.1\u001b[39m, \n\u001b[1;32m      5\u001b[0m  max_iterations\u001b[38;5;241m=\u001b[39m\u001b[38;5;241m100\u001b[39m, \n\u001b[1;32m      6\u001b[0m  all_possible_transitions\u001b[38;5;241m=\u001b[39m\u001b[38;5;28;01mTrue\u001b[39;00m\n\u001b[1;32m      7\u001b[0m )\n\u001b[1;32m      9\u001b[0m \u001b[38;5;28;01mtry\u001b[39;00m:\n\u001b[1;32m     10\u001b[0m     crf\u001b[38;5;241m.\u001b[39mfit(X_train, y_train)\n",
            "\u001b[0;31mNameError\u001b[0m: name 'sklearn_crfsuite' is not defined"
          ]
        }
      ],
      "source": [
        "crf = sklearn_crfsuite.CRF(\n",
        " algorithm='lbfgs', \n",
        " c1=0.1, \n",
        " c2=0.1, \n",
        " max_iterations=100, \n",
        " all_possible_transitions=True\n",
        ")\n",
        "\n",
        "try:\n",
        "    crf.fit(X_train, y_train)\n",
        "except AttributeError:\n",
        "    pass\n",
        "\n",
        "predictions = crf.predict(X_test)"
      ]
    },
    {
      "cell_type": "code",
      "execution_count": 41,
      "metadata": {
        "colab": {
          "base_uri": "https://localhost:8080/"
        },
        "id": "rGkwiE2Vuuf0",
        "outputId": "5a4081ff-9faa-4aef-d015-c7447aa17250"
      },
      "outputs": [
        {
          "data": {
            "text/plain": [
              "0.8912303626400145"
            ]
          },
          "execution_count": 41,
          "metadata": {},
          "output_type": "execute_result"
        }
      ],
      "source": [
        "from sklearn_crfsuite import metrics\n",
        "labels = list(crf.classes_)\n",
        "metrics.flat_f1_score(y_test, predictions,\n",
        "                      average='macro', labels=labels)\n"
      ]
    },
    {
      "cell_type": "code",
      "execution_count": 39,
      "metadata": {
        "colab": {
          "base_uri": "https://localhost:8080/"
        },
        "id": "2OP5QkV3-EzG",
        "outputId": "613d4af8-a931-47b1-e032-2ee223ffca04"
      },
      "outputs": [
        {
          "name": "stderr",
          "output_type": "stream",
          "text": [
            "/usr/local/lib/python3.7/dist-packages/sklearn/utils/validation.py:72: FutureWarning: Pass labels=['O', 'B-NEG', 'I-NEG'] as keyword args. From version 1.0 (renaming of 0.25) passing these as positional arguments will result in an error\n",
            "  return f(**kwargs)\n"
          ]
        },
        {
          "data": {
            "text/plain": [
              "array([[7227,   11,    0],\n",
              "       [  21,  113,    0],\n",
              "       [   1,    0,    2]])"
            ]
          },
          "execution_count": 39,
          "metadata": {},
          "output_type": "execute_result"
        }
      ],
      "source": [
        "from sklearn.metrics import multilabel_confusion_matrix\n",
        "cm = confusion_matrix(y_test_flatten, predictions_flatten, labels)\n",
        "cm"
      ]
    },
    {
      "cell_type": "code",
      "execution_count": 26,
      "metadata": {
        "id": "L79qT3R1CVGF"
      },
      "outputs": [],
      "source": [
        "y_test_flatten = [y for x in y_test for y in x]\n",
        "predictions_flatten = [y for x in predictions for y in x]"
      ]
    },
    {
      "cell_type": "code",
      "execution_count": 40,
      "metadata": {
        "colab": {
          "base_uri": "https://localhost:8080/",
          "height": 265
        },
        "id": "4Da5qP7LDgTr",
        "outputId": "e10cfa10-9a67-4dda-c9b8-e785fca84db9"
      },
      "outputs": [
        {
          "data": {
            "image/png": "[encoded data removed]",
            "text/plain": [
              "<Figure size 432x288 with 2 Axes>"
            ]
          },
          "metadata": {
            "needs_background": "light"
          },
          "output_type": "display_data"
        }
      ],
      "source": [
        "import matplotlib.pyplot as plt\n",
        "from sklearn.metrics import ConfusionMatrixDisplay\n",
        "\n",
        "f = sns.heatmap(cm, annot=True, fmt='d', xticklabels=labels, yticklabels=labels)"
      ]
    },
    {
      "cell_type": "code",
      "execution_count": null,
      "metadata": {
        "id": "faquzv_mEI22"
      },
      "outputs": [],
      "source": []
    }
  ],
  "metadata": {
    "colab": {
      "name": "ATM-A4.ipynb",
      "provenance": []
    },
    "interpreter": {
      "hash": "c1a591da9f60f0612cb7c9e457842e153e2f8dba4e138a6c81412a32f83a78dc"
    },
    "kernelspec": {
      "display_name": "Python 3.9.9 64-bit ('pymoo': conda)",
      "name": "python3"
    },
    "language_info": {
      "codemirror_mode": {
        "name": "ipython",
        "version": 3
      },
      "file_extension": ".py",
      "mimetype": "text/x-python",
      "name": "python",
      "nbconvert_exporter": "python",
      "pygments_lexer": "ipython3",
      "version": "3.9.9"
    }
  },
  "nbformat": 4,
  "nbformat_minor": 0
}
